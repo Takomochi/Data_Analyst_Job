{
 "cells": [
  {
   "cell_type": "markdown",
   "id": "a74c74d1",
   "metadata": {},
   "source": [
    "# Data Analyst -  Dataset"
   ]
  },
  {
   "cell_type": "code",
   "execution_count": 1,
   "id": "e887f6e5",
   "metadata": {},
   "outputs": [],
   "source": [
    "import pandas as pd\n",
    "import matplotlib.pyplot as plt\n",
    "import seaborn as sns\n",
    "import numpy as np\n",
    "%matplotlib inline"
   ]
  },
  {
   "cell_type": "markdown",
   "id": "2e8eedc0",
   "metadata": {},
   "source": [
    "# Read and Clean Data"
   ]
  },
  {
   "cell_type": "code",
   "execution_count": 2,
   "id": "f3d410d0",
   "metadata": {},
   "outputs": [
    {
     "data": {
      "text/html": [
       "<div>\n",
       "<style scoped>\n",
       "    .dataframe tbody tr th:only-of-type {\n",
       "        vertical-align: middle;\n",
       "    }\n",
       "\n",
       "    .dataframe tbody tr th {\n",
       "        vertical-align: top;\n",
       "    }\n",
       "\n",
       "    .dataframe thead th {\n",
       "        text-align: right;\n",
       "    }\n",
       "</style>\n",
       "<table border=\"1\" class=\"dataframe\">\n",
       "  <thead>\n",
       "    <tr style=\"text-align: right;\">\n",
       "      <th></th>\n",
       "      <th>Job Title</th>\n",
       "      <th>Salary Estimate</th>\n",
       "      <th>Job Description</th>\n",
       "      <th>Rating</th>\n",
       "      <th>Company Name</th>\n",
       "      <th>Location</th>\n",
       "      <th>Headquarters</th>\n",
       "      <th>Size</th>\n",
       "      <th>Founded</th>\n",
       "      <th>Type of ownership</th>\n",
       "      <th>Industry</th>\n",
       "      <th>Sector</th>\n",
       "      <th>Revenue</th>\n",
       "      <th>Competitors</th>\n",
       "      <th>Easy Apply</th>\n",
       "    </tr>\n",
       "  </thead>\n",
       "  <tbody>\n",
       "    <tr>\n",
       "      <th>0</th>\n",
       "      <td>Data Analyst, Center on Immigration and Justic...</td>\n",
       "      <td>$37K-$66K (Glassdoor est.)</td>\n",
       "      <td>Are you eager to roll up your sleeves and harn...</td>\n",
       "      <td>3.2</td>\n",
       "      <td>Vera Institute of Justice\\n3.2</td>\n",
       "      <td>New York, NY</td>\n",
       "      <td>New York, NY</td>\n",
       "      <td>201 to 500 employees</td>\n",
       "      <td>1961</td>\n",
       "      <td>Nonprofit Organization</td>\n",
       "      <td>Social Assistance</td>\n",
       "      <td>Non-Profit</td>\n",
       "      <td>$100 to $500 million (USD)</td>\n",
       "      <td>-1</td>\n",
       "      <td>True</td>\n",
       "    </tr>\n",
       "    <tr>\n",
       "      <th>1</th>\n",
       "      <td>Quality Data Analyst</td>\n",
       "      <td>$37K-$66K (Glassdoor est.)</td>\n",
       "      <td>Overview\\n\\nProvides analytical and technical ...</td>\n",
       "      <td>3.8</td>\n",
       "      <td>Visiting Nurse Service of New York\\n3.8</td>\n",
       "      <td>New York, NY</td>\n",
       "      <td>New York, NY</td>\n",
       "      <td>10000+ employees</td>\n",
       "      <td>1893</td>\n",
       "      <td>Nonprofit Organization</td>\n",
       "      <td>Health Care Services &amp; Hospitals</td>\n",
       "      <td>Health Care</td>\n",
       "      <td>$2 to $5 billion (USD)</td>\n",
       "      <td>-1</td>\n",
       "      <td>-1</td>\n",
       "    </tr>\n",
       "    <tr>\n",
       "      <th>2</th>\n",
       "      <td>Senior Data Analyst, Insights &amp; Analytics Team...</td>\n",
       "      <td>$37K-$66K (Glassdoor est.)</td>\n",
       "      <td>We’re looking for a Senior Data Analyst who ha...</td>\n",
       "      <td>3.4</td>\n",
       "      <td>Squarespace\\n3.4</td>\n",
       "      <td>New York, NY</td>\n",
       "      <td>New York, NY</td>\n",
       "      <td>1001 to 5000 employees</td>\n",
       "      <td>2003</td>\n",
       "      <td>Company - Private</td>\n",
       "      <td>Internet</td>\n",
       "      <td>Information Technology</td>\n",
       "      <td>Unknown / Non-Applicable</td>\n",
       "      <td>GoDaddy</td>\n",
       "      <td>-1</td>\n",
       "    </tr>\n",
       "    <tr>\n",
       "      <th>3</th>\n",
       "      <td>Data Analyst</td>\n",
       "      <td>$37K-$66K (Glassdoor est.)</td>\n",
       "      <td>Requisition NumberRR-0001939\\nRemote:Yes\\nWe c...</td>\n",
       "      <td>4.1</td>\n",
       "      <td>Celerity\\n4.1</td>\n",
       "      <td>New York, NY</td>\n",
       "      <td>McLean, VA</td>\n",
       "      <td>201 to 500 employees</td>\n",
       "      <td>2002</td>\n",
       "      <td>Subsidiary or Business Segment</td>\n",
       "      <td>IT Services</td>\n",
       "      <td>Information Technology</td>\n",
       "      <td>$50 to $100 million (USD)</td>\n",
       "      <td>-1</td>\n",
       "      <td>-1</td>\n",
       "    </tr>\n",
       "    <tr>\n",
       "      <th>4</th>\n",
       "      <td>Reporting Data Analyst</td>\n",
       "      <td>$37K-$66K (Glassdoor est.)</td>\n",
       "      <td>ABOUT FANDUEL GROUP\\n\\nFanDuel Group is a worl...</td>\n",
       "      <td>3.9</td>\n",
       "      <td>FanDuel\\n3.9</td>\n",
       "      <td>New York, NY</td>\n",
       "      <td>New York, NY</td>\n",
       "      <td>501 to 1000 employees</td>\n",
       "      <td>2009</td>\n",
       "      <td>Company - Private</td>\n",
       "      <td>Sports &amp; Recreation</td>\n",
       "      <td>Arts, Entertainment &amp; Recreation</td>\n",
       "      <td>$100 to $500 million (USD)</td>\n",
       "      <td>DraftKings</td>\n",
       "      <td>True</td>\n",
       "    </tr>\n",
       "  </tbody>\n",
       "</table>\n",
       "</div>"
      ],
      "text/plain": [
       "                                           Job Title  \\\n",
       "0  Data Analyst, Center on Immigration and Justic...   \n",
       "1                               Quality Data Analyst   \n",
       "2  Senior Data Analyst, Insights & Analytics Team...   \n",
       "3                                       Data Analyst   \n",
       "4                             Reporting Data Analyst   \n",
       "\n",
       "              Salary Estimate  \\\n",
       "0  $37K-$66K (Glassdoor est.)   \n",
       "1  $37K-$66K (Glassdoor est.)   \n",
       "2  $37K-$66K (Glassdoor est.)   \n",
       "3  $37K-$66K (Glassdoor est.)   \n",
       "4  $37K-$66K (Glassdoor est.)   \n",
       "\n",
       "                                     Job Description  Rating  \\\n",
       "0  Are you eager to roll up your sleeves and harn...     3.2   \n",
       "1  Overview\\n\\nProvides analytical and technical ...     3.8   \n",
       "2  We’re looking for a Senior Data Analyst who ha...     3.4   \n",
       "3  Requisition NumberRR-0001939\\nRemote:Yes\\nWe c...     4.1   \n",
       "4  ABOUT FANDUEL GROUP\\n\\nFanDuel Group is a worl...     3.9   \n",
       "\n",
       "                              Company Name      Location  Headquarters  \\\n",
       "0           Vera Institute of Justice\\n3.2  New York, NY  New York, NY   \n",
       "1  Visiting Nurse Service of New York\\n3.8  New York, NY  New York, NY   \n",
       "2                         Squarespace\\n3.4  New York, NY  New York, NY   \n",
       "3                            Celerity\\n4.1  New York, NY    McLean, VA   \n",
       "4                             FanDuel\\n3.9  New York, NY  New York, NY   \n",
       "\n",
       "                     Size  Founded               Type of ownership  \\\n",
       "0    201 to 500 employees     1961          Nonprofit Organization   \n",
       "1        10000+ employees     1893          Nonprofit Organization   \n",
       "2  1001 to 5000 employees     2003               Company - Private   \n",
       "3    201 to 500 employees     2002  Subsidiary or Business Segment   \n",
       "4   501 to 1000 employees     2009               Company - Private   \n",
       "\n",
       "                           Industry                            Sector  \\\n",
       "0                 Social Assistance                        Non-Profit   \n",
       "1  Health Care Services & Hospitals                       Health Care   \n",
       "2                          Internet            Information Technology   \n",
       "3                       IT Services            Information Technology   \n",
       "4               Sports & Recreation  Arts, Entertainment & Recreation   \n",
       "\n",
       "                      Revenue Competitors Easy Apply  \n",
       "0  $100 to $500 million (USD)          -1       True  \n",
       "1      $2 to $5 billion (USD)          -1         -1  \n",
       "2    Unknown / Non-Applicable     GoDaddy         -1  \n",
       "3   $50 to $100 million (USD)          -1         -1  \n",
       "4  $100 to $500 million (USD)  DraftKings       True  "
      ]
     },
     "execution_count": 2,
     "metadata": {},
     "output_type": "execute_result"
    }
   ],
   "source": [
    "df = pd.read_csv(\"Resources/DataAnalyst.csv\", index_col=0, encoding='utf-8')\n",
    "df.head()"
   ]
  },
  {
   "cell_type": "code",
   "execution_count": 3,
   "id": "93e33577",
   "metadata": {},
   "outputs": [
    {
     "data": {
      "text/plain": [
       "(2253, 15)"
      ]
     },
     "execution_count": 3,
     "metadata": {},
     "output_type": "execute_result"
    }
   ],
   "source": [
    "df.shape"
   ]
  },
  {
   "cell_type": "code",
   "execution_count": 4,
   "id": "25b4f00a",
   "metadata": {},
   "outputs": [
    {
     "data": {
      "text/plain": [
       "Job Title             object\n",
       "Salary Estimate       object\n",
       "Job Description       object\n",
       "Rating               float64\n",
       "Company Name          object\n",
       "Location              object\n",
       "Headquarters          object\n",
       "Size                  object\n",
       "Founded                int64\n",
       "Type of ownership     object\n",
       "Industry              object\n",
       "Sector                object\n",
       "Revenue               object\n",
       "Competitors           object\n",
       "Easy Apply            object\n",
       "dtype: object"
      ]
     },
     "execution_count": 4,
     "metadata": {},
     "output_type": "execute_result"
    }
   ],
   "source": [
    "df.dtypes"
   ]
  },
  {
   "cell_type": "code",
   "execution_count": 5,
   "id": "2bda0b66",
   "metadata": {},
   "outputs": [
    {
     "data": {
      "text/plain": [
       "Job Title            0\n",
       "Salary Estimate      0\n",
       "Job Description      0\n",
       "Rating               0\n",
       "Company Name         1\n",
       "Location             0\n",
       "Headquarters         0\n",
       "Size                 0\n",
       "Founded              0\n",
       "Type of ownership    0\n",
       "Industry             0\n",
       "Sector               0\n",
       "Revenue              0\n",
       "Competitors          0\n",
       "Easy Apply           0\n",
       "dtype: int64"
      ]
     },
     "execution_count": 5,
     "metadata": {},
     "output_type": "execute_result"
    }
   ],
   "source": [
    "df.isnull().sum()"
   ]
  },
  {
   "cell_type": "code",
   "execution_count": 6,
   "id": "07f9816f",
   "metadata": {},
   "outputs": [
    {
     "data": {
      "text/html": [
       "<div>\n",
       "<style scoped>\n",
       "    .dataframe tbody tr th:only-of-type {\n",
       "        vertical-align: middle;\n",
       "    }\n",
       "\n",
       "    .dataframe tbody tr th {\n",
       "        vertical-align: top;\n",
       "    }\n",
       "\n",
       "    .dataframe thead th {\n",
       "        text-align: right;\n",
       "    }\n",
       "</style>\n",
       "<table border=\"1\" class=\"dataframe\">\n",
       "  <thead>\n",
       "    <tr style=\"text-align: right;\">\n",
       "      <th></th>\n",
       "      <th>Job Title</th>\n",
       "      <th>Salary Estimate</th>\n",
       "      <th>Job Description</th>\n",
       "      <th>Rating</th>\n",
       "      <th>Company Name</th>\n",
       "      <th>Location</th>\n",
       "      <th>Headquarters</th>\n",
       "      <th>Size</th>\n",
       "      <th>Founded</th>\n",
       "      <th>Type of ownership</th>\n",
       "      <th>Industry</th>\n",
       "      <th>Sector</th>\n",
       "      <th>Revenue</th>\n",
       "      <th>Competitors</th>\n",
       "      <th>Easy Apply</th>\n",
       "    </tr>\n",
       "  </thead>\n",
       "  <tbody>\n",
       "    <tr>\n",
       "      <th>1860</th>\n",
       "      <td>Data Analyst</td>\n",
       "      <td>$53K-$99K (Glassdoor est.)</td>\n",
       "      <td>Kindred at Home, part of the Kindred at Home f...</td>\n",
       "      <td>-1.0</td>\n",
       "      <td>NaN</td>\n",
       "      <td>Mooresville, NC</td>\n",
       "      <td>-1</td>\n",
       "      <td>-1</td>\n",
       "      <td>-1</td>\n",
       "      <td>-1</td>\n",
       "      <td>-1</td>\n",
       "      <td>-1</td>\n",
       "      <td>-1</td>\n",
       "      <td>-1</td>\n",
       "      <td>-1</td>\n",
       "    </tr>\n",
       "  </tbody>\n",
       "</table>\n",
       "</div>"
      ],
      "text/plain": [
       "         Job Title             Salary Estimate  \\\n",
       "1860  Data Analyst  $53K-$99K (Glassdoor est.)   \n",
       "\n",
       "                                        Job Description  Rating Company Name  \\\n",
       "1860  Kindred at Home, part of the Kindred at Home f...    -1.0          NaN   \n",
       "\n",
       "             Location Headquarters Size  Founded Type of ownership Industry  \\\n",
       "1860  Mooresville, NC           -1   -1       -1                -1       -1   \n",
       "\n",
       "     Sector Revenue Competitors Easy Apply  \n",
       "1860     -1      -1          -1         -1  "
      ]
     },
     "execution_count": 6,
     "metadata": {},
     "output_type": "execute_result"
    }
   ],
   "source": [
    "# Deleting the row with Null value\n",
    "df[df['Company Name'].isnull()]"
   ]
  },
  {
   "cell_type": "code",
   "execution_count": 7,
   "id": "908f5e11",
   "metadata": {},
   "outputs": [],
   "source": [
    "df.drop(index=[1860], inplace=True)"
   ]
  },
  {
   "cell_type": "code",
   "execution_count": 8,
   "id": "c1fba282",
   "metadata": {},
   "outputs": [
    {
     "data": {
      "text/html": [
       "<div>\n",
       "<style scoped>\n",
       "    .dataframe tbody tr th:only-of-type {\n",
       "        vertical-align: middle;\n",
       "    }\n",
       "\n",
       "    .dataframe tbody tr th {\n",
       "        vertical-align: top;\n",
       "    }\n",
       "\n",
       "    .dataframe thead th {\n",
       "        text-align: right;\n",
       "    }\n",
       "</style>\n",
       "<table border=\"1\" class=\"dataframe\">\n",
       "  <thead>\n",
       "    <tr style=\"text-align: right;\">\n",
       "      <th></th>\n",
       "      <th>Job Title</th>\n",
       "      <th>Salary Estimate</th>\n",
       "      <th>Job Description</th>\n",
       "      <th>Rating</th>\n",
       "      <th>Company Name</th>\n",
       "      <th>Location</th>\n",
       "      <th>Headquarters</th>\n",
       "      <th>Size</th>\n",
       "      <th>Founded</th>\n",
       "      <th>Type of ownership</th>\n",
       "      <th>Industry</th>\n",
       "      <th>Sector</th>\n",
       "      <th>Revenue</th>\n",
       "      <th>Competitors</th>\n",
       "      <th>Easy Apply</th>\n",
       "    </tr>\n",
       "  </thead>\n",
       "  <tbody>\n",
       "  </tbody>\n",
       "</table>\n",
       "</div>"
      ],
      "text/plain": [
       "Empty DataFrame\n",
       "Columns: [Job Title, Salary Estimate, Job Description, Rating, Company Name, Location, Headquarters, Size, Founded, Type of ownership, Industry, Sector, Revenue, Competitors, Easy Apply]\n",
       "Index: []"
      ]
     },
     "execution_count": 8,
     "metadata": {},
     "output_type": "execute_result"
    }
   ],
   "source": [
    "# Check if the Null value was deleted\n",
    "df[df['Company Name'].isnull()]"
   ]
  },
  {
   "cell_type": "markdown",
   "id": "b7f773b4",
   "metadata": {},
   "source": [
    "### 'Salary Estimate' column"
   ]
  },
  {
   "cell_type": "code",
   "execution_count": 9,
   "id": "845ff684",
   "metadata": {},
   "outputs": [
    {
     "data": {
      "text/plain": [
       "array(['$37K-$66K (Glassdoor est.)', '$46K-$87K (Glassdoor est.)',\n",
       "       '$51K-$88K (Glassdoor est.)', '$51K-$87K (Glassdoor est.)',\n",
       "       '$59K-$85K (Glassdoor est.)', '$43K-$76K (Glassdoor est.)',\n",
       "       '$60K-$110K (Glassdoor est.)', '$41K-$78K (Glassdoor est.)',\n",
       "       '$45K-$88K (Glassdoor est.)', '$73K-$127K (Glassdoor est.)',\n",
       "       '$84K-$90K (Glassdoor est.)', '$27K-$52K (Glassdoor est.)',\n",
       "       '$42K-$74K (Glassdoor est.)', '$77K-$132K (Glassdoor est.)',\n",
       "       '$98K-$114K (Glassdoor est.)', '$48K-$96K (Glassdoor est.)',\n",
       "       '$26K-$47K (Glassdoor est.)', '$31K-$59K (Glassdoor est.)',\n",
       "       '$47K-$81K (Glassdoor est.)', '$43K-$69K (Glassdoor est.)',\n",
       "       '$49K-$112K (Glassdoor est.)', '$30K-$54K (Glassdoor est.)',\n",
       "       '$55K-$103K (Glassdoor est.)', '$37K-$70K (Glassdoor est.)',\n",
       "       '$57K-$103K (Glassdoor est.)', '$35K-$45K (Glassdoor est.)',\n",
       "       '$42K-$66K (Glassdoor est.)', '$65K-$81K (Glassdoor est.)',\n",
       "       '$113K-$132K (Glassdoor est.)', '$42K-$63K (Glassdoor est.)',\n",
       "       '$60K-$66K (Glassdoor est.)', '$73K-$82K (Glassdoor est.)',\n",
       "       '$67K-$92K (Glassdoor est.)', '$42K-$76K (Glassdoor est.)',\n",
       "       '$97K-$129K (Glassdoor est.)', '$68K-$87K (Glassdoor est.)',\n",
       "       '$29K-$38K (Glassdoor est.)', '$47K-$76K (Glassdoor est.)',\n",
       "       '$74K-$123K (Glassdoor est.)', '$53K-$94K (Glassdoor est.)',\n",
       "       '$46K-$102K (Glassdoor est.)', '$43K-$94K (Glassdoor est.)',\n",
       "       '$45K-$78K (Glassdoor est.)', '$38K-$68K (Glassdoor est.)',\n",
       "       '$37K-$44K (Glassdoor est.)', '$64K-$113K (Glassdoor est.)',\n",
       "       '$50K-$93K (Glassdoor est.)', '$37K-$68K (Glassdoor est.)',\n",
       "       '$73K-$89K (Glassdoor est.)', '$76K-$122K (Glassdoor est.)',\n",
       "       '$60K-$124K (Glassdoor est.)', '$34K-$61K (Glassdoor est.)',\n",
       "       '$24K-$48K (Glassdoor est.)', '$30K-$53K (Glassdoor est.)',\n",
       "       '$41K-$86K (Glassdoor est.)', '$44K-$82K (Glassdoor est.)',\n",
       "       '$48K-$88K (Glassdoor est.)', '$44K-$78K (Glassdoor est.)',\n",
       "       '$110K-$190K (Glassdoor est.)', '$89K-$151K (Glassdoor est.)',\n",
       "       '$69K-$127K (Glassdoor est.)', '$51K-$93K (Glassdoor est.)',\n",
       "       '$58K-$93K (Glassdoor est.)', '$63K-$116K (Glassdoor est.)',\n",
       "       '$53K-$104K (Glassdoor est.)', '$35K-$42K (Glassdoor est.)',\n",
       "       '$43K-$77K (Glassdoor est.)', '$40K-$72K (Glassdoor est.)',\n",
       "       '$50K-$86K (Glassdoor est.)', '$35K-$67K (Glassdoor est.)',\n",
       "       '$57K-$70K (Glassdoor est.)', '$28K-$52K (Glassdoor est.)',\n",
       "       '$46K-$86K (Glassdoor est.)', '$54K-$75K (Glassdoor est.)',\n",
       "       '$53K-$99K (Glassdoor est.)', '$40K-$74K (Glassdoor est.)',\n",
       "       '$57K-$104K (Glassdoor est.)', '$99K-$178K (Glassdoor est.)',\n",
       "       '$93K-$159K (Glassdoor est.)', '$82K-$116K (Glassdoor est.)',\n",
       "       '$65K-$120K (Glassdoor est.)', '$47K-$74K (Glassdoor est.)',\n",
       "       '$55K-$101K (Glassdoor est.)', '-1', '$32K-$56K (Glassdoor est.)',\n",
       "       '$36K-$67K (Glassdoor est.)', '$57K-$67K (Glassdoor est.)',\n",
       "       '$49K-$91K (Glassdoor est.)', '$57K-$100K (Glassdoor est.)',\n",
       "       '$78K-$104K (Glassdoor est.)'], dtype=object)"
      ]
     },
     "execution_count": 9,
     "metadata": {},
     "output_type": "execute_result"
    }
   ],
   "source": [
    "# Salary Estimate\n",
    "df['Salary Estimate'].unique()"
   ]
  },
  {
   "cell_type": "markdown",
   "id": "1217f43a",
   "metadata": {},
   "source": [
    "##### There is 1 irregular value which is \"-1\"."
   ]
  },
  {
   "cell_type": "code",
   "execution_count": 10,
   "id": "2f6cee83",
   "metadata": {},
   "outputs": [
    {
     "data": {
      "text/html": [
       "<div>\n",
       "<style scoped>\n",
       "    .dataframe tbody tr th:only-of-type {\n",
       "        vertical-align: middle;\n",
       "    }\n",
       "\n",
       "    .dataframe tbody tr th {\n",
       "        vertical-align: top;\n",
       "    }\n",
       "\n",
       "    .dataframe thead th {\n",
       "        text-align: right;\n",
       "    }\n",
       "</style>\n",
       "<table border=\"1\" class=\"dataframe\">\n",
       "  <thead>\n",
       "    <tr style=\"text-align: right;\">\n",
       "      <th></th>\n",
       "      <th>Job Title</th>\n",
       "      <th>Salary Estimate</th>\n",
       "      <th>Job Description</th>\n",
       "      <th>Rating</th>\n",
       "      <th>Company Name</th>\n",
       "      <th>Location</th>\n",
       "      <th>Headquarters</th>\n",
       "      <th>Size</th>\n",
       "      <th>Founded</th>\n",
       "      <th>Type of ownership</th>\n",
       "      <th>Industry</th>\n",
       "      <th>Sector</th>\n",
       "      <th>Revenue</th>\n",
       "      <th>Competitors</th>\n",
       "      <th>Easy Apply</th>\n",
       "    </tr>\n",
       "  </thead>\n",
       "  <tbody>\n",
       "    <tr>\n",
       "      <th>2149</th>\n",
       "      <td>Configuration/Data Management Analyst III</td>\n",
       "      <td>-1</td>\n",
       "      <td>Job Description\\nPosition Title: Configuration...</td>\n",
       "      <td>4.4</td>\n",
       "      <td>Protingent\\n4.4</td>\n",
       "      <td>Kent, WA</td>\n",
       "      <td>Bellevue, WA</td>\n",
       "      <td>51 to 200 employees</td>\n",
       "      <td>2001</td>\n",
       "      <td>Company - Private</td>\n",
       "      <td>Staffing &amp; Outsourcing</td>\n",
       "      <td>Business Services</td>\n",
       "      <td>$25 to $50 million (USD)</td>\n",
       "      <td>-1</td>\n",
       "      <td>-1</td>\n",
       "    </tr>\n",
       "  </tbody>\n",
       "</table>\n",
       "</div>"
      ],
      "text/plain": [
       "                                      Job Title Salary Estimate  \\\n",
       "2149  Configuration/Data Management Analyst III              -1   \n",
       "\n",
       "                                        Job Description  Rating  \\\n",
       "2149  Job Description\\nPosition Title: Configuration...     4.4   \n",
       "\n",
       "         Company Name  Location  Headquarters                 Size  Founded  \\\n",
       "2149  Protingent\\n4.4  Kent, WA  Bellevue, WA  51 to 200 employees     2001   \n",
       "\n",
       "      Type of ownership                Industry             Sector  \\\n",
       "2149  Company - Private  Staffing & Outsourcing  Business Services   \n",
       "\n",
       "                       Revenue Competitors Easy Apply  \n",
       "2149  $25 to $50 million (USD)          -1         -1  "
      ]
     },
     "execution_count": 10,
     "metadata": {},
     "output_type": "execute_result"
    }
   ],
   "source": [
    "# Check the row with the value \"-1\"\n",
    "df[df['Salary Estimate'] == str(-1)]"
   ]
  },
  {
   "cell_type": "code",
   "execution_count": 11,
   "id": "1efc46f6",
   "metadata": {},
   "outputs": [],
   "source": [
    "# Dlete the row with the value \"-1\"\n",
    "df.drop(index=[2149], inplace=True)"
   ]
  },
  {
   "cell_type": "code",
   "execution_count": 12,
   "id": "7fe297e2",
   "metadata": {},
   "outputs": [],
   "source": [
    "# Loop the column and split by Space between. Add the first value into salary list\n",
    "salary = []\n",
    "for i in df['Salary Estimate']:\n",
    "    salary.append(i.split(' ')[0])"
   ]
  },
  {
   "cell_type": "code",
   "execution_count": 13,
   "id": "bba2649d",
   "metadata": {},
   "outputs": [
    {
     "data": {
      "text/plain": [
       "0    $37K-$66K\n",
       "1    $37K-$66K\n",
       "2    $37K-$66K\n",
       "3    $37K-$66K\n",
       "4    $37K-$66K\n",
       "Name: Salary Estimate, dtype: object"
      ]
     },
     "execution_count": 13,
     "metadata": {},
     "output_type": "execute_result"
    }
   ],
   "source": [
    "df['Salary Estimate'] = salary\n",
    "df['Salary Estimate'][:5]"
   ]
  },
  {
   "cell_type": "code",
   "execution_count": 14,
   "id": "4bfa3060",
   "metadata": {},
   "outputs": [
    {
     "data": {
      "text/plain": [
       "0        (37*1000+66*1000)/2\n",
       "1        (37*1000+66*1000)/2\n",
       "2        (37*1000+66*1000)/2\n",
       "3        (37*1000+66*1000)/2\n",
       "4        (37*1000+66*1000)/2\n",
       "                ...         \n",
       "2248    (78*1000+104*1000)/2\n",
       "2249    (78*1000+104*1000)/2\n",
       "2250    (78*1000+104*1000)/2\n",
       "2251    (78*1000+104*1000)/2\n",
       "2252    (78*1000+104*1000)/2\n",
       "Name: Salary Estimate, Length: 2251, dtype: object"
      ]
     },
     "execution_count": 14,
     "metadata": {},
     "output_type": "execute_result"
    }
   ],
   "source": [
    "df['Salary Estimate'] = df['Salary Estimate'].replace({\"\\$\":\"\"}, regex = True)\n",
    "df['Salary Estimate'] = df['Salary Estimate'].replace({\"K\":\"*1000\"}, regex = True)\n",
    "df['Salary Estimate'] = df['Salary Estimate'].replace({\"-\":\"+\"}, regex = True)\n",
    "df['Salary Estimate'] = \"(\" + df['Salary Estimate'] + \")\"\n",
    "df['Salary Estimate'] = df['Salary Estimate'] + \"/2\"\n",
    "df['Salary Estimate']"
   ]
  },
  {
   "cell_type": "code",
   "execution_count": 15,
   "id": "75a8ce0a",
   "metadata": {},
   "outputs": [],
   "source": [
    "df['Salary Estimate'] = df['Salary Estimate'].map(lambda x: eval(x))\n",
    "df['Salary Estimate'] = df['Salary Estimate'].astype(int)"
   ]
  },
  {
   "cell_type": "code",
   "execution_count": 16,
   "id": "3961d2d1",
   "metadata": {},
   "outputs": [
    {
     "data": {
      "text/plain": [
       "0       51500\n",
       "1       51500\n",
       "2       51500\n",
       "3       51500\n",
       "4       51500\n",
       "        ...  \n",
       "2248    91000\n",
       "2249    91000\n",
       "2250    91000\n",
       "2251    91000\n",
       "2252    91000\n",
       "Name: Salary Estimate, Length: 2251, dtype: int32"
      ]
     },
     "execution_count": 16,
     "metadata": {},
     "output_type": "execute_result"
    }
   ],
   "source": [
    "# Converted to mean of the Salary (ex: Mean of 37K-66K)\n",
    "df['Salary Estimate']"
   ]
  },
  {
   "cell_type": "code",
   "execution_count": 17,
   "id": "a0e85c1d",
   "metadata": {},
   "outputs": [],
   "source": [
    "df.rename(columns={'Salary Estimate':\"avg_salary\"}, inplace=True)"
   ]
  },
  {
   "cell_type": "markdown",
   "id": "e92bd353",
   "metadata": {},
   "source": [
    "### 'Company Name' Column"
   ]
  },
  {
   "cell_type": "code",
   "execution_count": 18,
   "id": "2a80d5d5",
   "metadata": {},
   "outputs": [
    {
     "data": {
      "text/plain": [
       "array(['Vera Institute of Justice\\n3.2',\n",
       "       'Visiting Nurse Service of New York\\n3.8', 'Squarespace\\n3.4',\n",
       "       'Celerity\\n4.1', 'FanDuel\\n3.9', 'Point72\\n3.9', 'Two Sigma\\n4.4',\n",
       "       'GNY Insurance Companies\\n3.7', 'DMGT\\n4.0', 'Riskified\\n4.4',\n",
       "       'NYU Langone Health\\n4.0', 'BulbHead', 'Montefiore Medical\\n3.7',\n",
       "       'Known\\n3.0', 'Advisor Group\\n3.4', 'CodeGreen Solutions\\n3.6',\n",
       "       'Undertone\\n3.8', 'NYSTEC\\n3.8',\n",
       "       'Education Development Center, Inc.\\n3.9',\n",
       "       'Teachers Pay Teachers\\n4.9', 'Google\\n4.4',\n",
       "       'MUSIC & Entertainment', 'Macquarie Group\\n3.3', 'Andiamo\\n3.5',\n",
       "       'Dash Technologies Inc\\n3.8', 'Hearst Communications\\n4.0',\n",
       "       'Duolingo\\n5.0', 'Ro\\n4.8', 'Endai\\n3.7', 'BlueLabs\\n4.7',\n",
       "       'Revel\\n3.6', 'NALLAS CORPORATION\\n3.6', 'Pozent\\n3.5',\n",
       "       'SoFi\\n3.2', 'Carry1st', 'Bank of America\\n3.7', 'Clear Street',\n",
       "       'Nutech Information Systems\\n3.6', 'The Trevor Project\\n4.6',\n",
       "       'Pinto', 'AB InBev', 'Whip Media Group\\n5.0',\n",
       "       'Two95 International Inc.\\n4.0', 'Vettery\\n3.0',\n",
       "       'Nesco Resource, LLC\\n2.9', 'MediaMath\\n3.6',\n",
       "       'Jordan & Jordan\\n4.9', 'Roku\\n3.9', 'Walt Disney Co.\\n4.0',\n",
       "       'Citadel\\n3.8'], dtype=object)"
      ]
     },
     "execution_count": 18,
     "metadata": {},
     "output_type": "execute_result"
    }
   ],
   "source": [
    "# Removing right letters from \"\\n\"\n",
    "df['Company Name'].unique()[:50]"
   ]
  },
  {
   "cell_type": "code",
   "execution_count": 19,
   "id": "43f7c69f",
   "metadata": {},
   "outputs": [
    {
     "data": {
      "text/plain": [
       "0             Vera Institute of Justice\n",
       "1    Visiting Nurse Service of New York\n",
       "2                           Squarespace\n",
       "3                              Celerity\n",
       "4                               FanDuel\n",
       "5                               Point72\n",
       "6                             Two Sigma\n",
       "7               GNY Insurance Companies\n",
       "8                                  DMGT\n",
       "9                             Riskified\n",
       "Name: company_name, dtype: object"
      ]
     },
     "execution_count": 19,
     "metadata": {},
     "output_type": "execute_result"
    }
   ],
   "source": [
    "df['company_name'] = df.apply(lambda x: x['Company Name'] if x['Rating'] < 0 else x['Company Name'].split(\"\\n\")[0], axis=1)\n",
    "df['company_name'][:10]"
   ]
  },
  {
   "cell_type": "markdown",
   "id": "34c952fb",
   "metadata": {},
   "source": [
    "### 'Location' Column"
   ]
  },
  {
   "cell_type": "code",
   "execution_count": 20,
   "id": "7c8f02c7",
   "metadata": {},
   "outputs": [
    {
     "data": {
      "text/plain": [
       " CA          626\n",
       " TX          394\n",
       " NY          345\n",
       " IL          164\n",
       " PA          114\n",
       " AZ           97\n",
       " NC           89\n",
       " CO           88\n",
       " NJ           86\n",
       " WA           53\n",
       " VA           48\n",
       " OH           35\n",
       " UT           33\n",
       " FL           27\n",
       " IN           23\n",
       " DE           11\n",
       " Arapahoe      8\n",
       " GA            4\n",
       " KS            3\n",
       " SC            3\n",
       "Name: state, dtype: int64"
      ]
     },
     "execution_count": 20,
     "metadata": {},
     "output_type": "execute_result"
    }
   ],
   "source": [
    "# Take out state Part and make new column\n",
    "df['state'] = df['Location'].map(lambda x: x.split(',')[1])\n",
    "df['state'].value_counts()"
   ]
  },
  {
   "cell_type": "markdown",
   "id": "4ad11ac1",
   "metadata": {},
   "source": [
    "### 'Industry' Column"
   ]
  },
  {
   "cell_type": "code",
   "execution_count": 21,
   "id": "24425472",
   "metadata": {},
   "outputs": [],
   "source": [
    "df['Industry'] = df['Industry'].map(lambda x: 'Others' if x ==\"-1\" else x)"
   ]
  },
  {
   "cell_type": "code",
   "execution_count": 22,
   "id": "7b7c5efd",
   "metadata": {},
   "outputs": [
    {
     "data": {
      "text/plain": [
       "Others                              352\n",
       "IT Services                         325\n",
       "Staffing & Outsourcing              322\n",
       "Health Care Services & Hospitals    151\n",
       "Computer Hardware & Software        111\n",
       "                                   ... \n",
       "Trucking                              1\n",
       "Audiovisual                           1\n",
       "Stock Exchanges                       1\n",
       "Express Delivery Services             1\n",
       "Pet & Pet Supplies Stores             1\n",
       "Name: Industry, Length: 89, dtype: int64"
      ]
     },
     "execution_count": 22,
     "metadata": {},
     "output_type": "execute_result"
    }
   ],
   "source": [
    "df['Industry'].value_counts()"
   ]
  },
  {
   "cell_type": "markdown",
   "id": "25302bc0",
   "metadata": {},
   "source": [
    "# Analyze Data"
   ]
  },
  {
   "cell_type": "markdown",
   "id": "cfcef914",
   "metadata": {},
   "source": [
    "###  Number of Job posting by State"
   ]
  },
  {
   "cell_type": "code",
   "execution_count": 23,
   "id": "33fc2b63",
   "metadata": {},
   "outputs": [
    {
     "data": {
      "text/plain": [
       "array([' NY', ' NJ', ' UT', ' CA', ' VA', ' FL', ' IL', ' TX', ' AZ',\n",
       "       ' PA', ' DE', ' OH', ' NC', ' SC', ' IN', ' WA', ' GA', ' KS',\n",
       "       ' CO', ' Arapahoe'], dtype=object)"
      ]
     },
     "execution_count": 23,
     "metadata": {},
     "output_type": "execute_result"
    }
   ],
   "source": [
    "# Changing State Names\n",
    "df['state'].unique()"
   ]
  },
  {
   "cell_type": "code",
   "execution_count": 24,
   "id": "2ed98d41",
   "metadata": {},
   "outputs": [],
   "source": [
    "df['state'] = df['state'].replace(\" NY\",\"New York\")\n",
    "df['state'] = df['state'].replace(\" NJ\", \"New Jersey\")\n",
    "df['state'] = df['state'].replace(\" UT\", \"Utah\")\n",
    "df['state'] = df['state'].replace(\" CA\", \"California\")\n",
    "df['state'] = df['state'].replace(\" VA\", \"Virginia\")\n",
    "df['state'] = df['state'].replace(\" FL\", \"Florida\")\n",
    "df['state'] = df['state'].replace(\" IL\", \"Illinois\")\n",
    "df['state'] = df['state'].replace(\" TX\", \"Texas\")\n",
    "df['state'] = df['state'].replace(\" AZ\", \"Arizona\")\n",
    "df['state'] = df['state'].replace(\" PA\", \"Pennsylvania\")\n",
    "df['state'] = df['state'].replace(\" DE\", 'Delaware')\n",
    "df['state'] = df['state'].replace(\" OH\", 'Ohio')\n",
    "df['state'] = df['state'].replace(\" NC\", 'North Carolina')\n",
    "df['state'] = df['state'].replace(\" SC\", 'South Carolina')\n",
    "df['state'] = df['state'].replace(\" IN\", 'Indiana')\n",
    "df['state'] = df['state'].replace(\" WA\", 'Washington')\n",
    "df['state'] = df['state'].replace(\" GA\", 'Georgia')\n",
    "df['state'] = df['state'].replace(\" KS\", 'Kansas')\n",
    "df['state'] = df['state'].replace(\" CO\", 'Colorado')"
   ]
  },
  {
   "cell_type": "code",
   "execution_count": 25,
   "id": "d1dab491",
   "metadata": {
    "scrolled": true
   },
   "outputs": [
    {
     "data": {
      "text/plain": [
       "0       New York\n",
       "1       New York\n",
       "2       New York\n",
       "3       New York\n",
       "4       New York\n",
       "          ...   \n",
       "2248    Colorado\n",
       "2249    Colorado\n",
       "2250    Colorado\n",
       "2251    Colorado\n",
       "2252    Colorado\n",
       "Name: state, Length: 2251, dtype: object"
      ]
     },
     "execution_count": 25,
     "metadata": {},
     "output_type": "execute_result"
    }
   ],
   "source": [
    "df['state']"
   ]
  },
  {
   "cell_type": "code",
   "execution_count": 26,
   "id": "5fa9bbc0",
   "metadata": {},
   "outputs": [
    {
     "data": {
      "text/html": [
       "<div>\n",
       "<style scoped>\n",
       "    .dataframe tbody tr th:only-of-type {\n",
       "        vertical-align: middle;\n",
       "    }\n",
       "\n",
       "    .dataframe tbody tr th {\n",
       "        vertical-align: top;\n",
       "    }\n",
       "\n",
       "    .dataframe thead th {\n",
       "        text-align: right;\n",
       "    }\n",
       "</style>\n",
       "<table border=\"1\" class=\"dataframe\">\n",
       "  <thead>\n",
       "    <tr style=\"text-align: right;\">\n",
       "      <th></th>\n",
       "      <th>state</th>\n",
       "    </tr>\n",
       "  </thead>\n",
       "  <tbody>\n",
       "    <tr>\n",
       "      <th>California</th>\n",
       "      <td>626</td>\n",
       "    </tr>\n",
       "    <tr>\n",
       "      <th>Texas</th>\n",
       "      <td>394</td>\n",
       "    </tr>\n",
       "    <tr>\n",
       "      <th>New York</th>\n",
       "      <td>345</td>\n",
       "    </tr>\n",
       "    <tr>\n",
       "      <th>Illinois</th>\n",
       "      <td>164</td>\n",
       "    </tr>\n",
       "    <tr>\n",
       "      <th>Pennsylvania</th>\n",
       "      <td>114</td>\n",
       "    </tr>\n",
       "    <tr>\n",
       "      <th>Arizona</th>\n",
       "      <td>97</td>\n",
       "    </tr>\n",
       "    <tr>\n",
       "      <th>North Carolina</th>\n",
       "      <td>89</td>\n",
       "    </tr>\n",
       "    <tr>\n",
       "      <th>Colorado</th>\n",
       "      <td>88</td>\n",
       "    </tr>\n",
       "    <tr>\n",
       "      <th>New Jersey</th>\n",
       "      <td>86</td>\n",
       "    </tr>\n",
       "    <tr>\n",
       "      <th>Washington</th>\n",
       "      <td>53</td>\n",
       "    </tr>\n",
       "    <tr>\n",
       "      <th>Virginia</th>\n",
       "      <td>48</td>\n",
       "    </tr>\n",
       "    <tr>\n",
       "      <th>Ohio</th>\n",
       "      <td>35</td>\n",
       "    </tr>\n",
       "    <tr>\n",
       "      <th>Utah</th>\n",
       "      <td>33</td>\n",
       "    </tr>\n",
       "    <tr>\n",
       "      <th>Florida</th>\n",
       "      <td>27</td>\n",
       "    </tr>\n",
       "    <tr>\n",
       "      <th>Indiana</th>\n",
       "      <td>23</td>\n",
       "    </tr>\n",
       "    <tr>\n",
       "      <th>Delaware</th>\n",
       "      <td>11</td>\n",
       "    </tr>\n",
       "    <tr>\n",
       "      <th>Arapahoe</th>\n",
       "      <td>8</td>\n",
       "    </tr>\n",
       "    <tr>\n",
       "      <th>Georgia</th>\n",
       "      <td>4</td>\n",
       "    </tr>\n",
       "    <tr>\n",
       "      <th>Kansas</th>\n",
       "      <td>3</td>\n",
       "    </tr>\n",
       "    <tr>\n",
       "      <th>South Carolina</th>\n",
       "      <td>3</td>\n",
       "    </tr>\n",
       "  </tbody>\n",
       "</table>\n",
       "</div>"
      ],
      "text/plain": [
       "                state\n",
       "California        626\n",
       "Texas             394\n",
       "New York          345\n",
       "Illinois          164\n",
       "Pennsylvania      114\n",
       "Arizona            97\n",
       "North Carolina     89\n",
       "Colorado           88\n",
       "New Jersey         86\n",
       "Washington         53\n",
       "Virginia           48\n",
       "Ohio               35\n",
       "Utah               33\n",
       "Florida            27\n",
       "Indiana            23\n",
       "Delaware           11\n",
       " Arapahoe           8\n",
       "Georgia             4\n",
       "Kansas              3\n",
       "South Carolina      3"
      ]
     },
     "execution_count": 26,
     "metadata": {},
     "output_type": "execute_result"
    }
   ],
   "source": [
    "num_state = pd.DataFrame(df['state'].value_counts())\n",
    "num_state"
   ]
  },
  {
   "cell_type": "code",
   "execution_count": 27,
   "id": "fffc9b96",
   "metadata": {},
   "outputs": [
    {
     "data": {
      "image/png": "[encoded data removed]",
      "text/plain": [
       "<Figure size 720x432 with 1 Axes>"
      ]
     },
     "metadata": {
      "needs_background": "light"
     },
     "output_type": "display_data"
    }
   ],
   "source": [
    "num_state.plot(kind='bar', width=0.8,figsize=(10, 6))\n",
    "plt.title(\"Job Posting by State\", fontsize=15)\n",
    "plt.xlabel(\"State\", fontsize=12)\n",
    "plt.ylabel(\"Number of Post\", fontsize=12)\n",
    "plt.legend(fontsize=12)\n",
    "plt.show()"
   ]
  },
  {
   "cell_type": "markdown",
   "id": "a0d23350",
   "metadata": {},
   "source": [
    "###  Average Salary by State"
   ]
  },
  {
   "cell_type": "code",
   "execution_count": 28,
   "id": "bb5d9baf",
   "metadata": {},
   "outputs": [
    {
     "data": {
      "text/html": [
       "<div>\n",
       "<style scoped>\n",
       "    .dataframe tbody tr th:only-of-type {\n",
       "        vertical-align: middle;\n",
       "    }\n",
       "\n",
       "    .dataframe tbody tr th {\n",
       "        vertical-align: top;\n",
       "    }\n",
       "\n",
       "    .dataframe thead th {\n",
       "        text-align: right;\n",
       "    }\n",
       "</style>\n",
       "<table border=\"1\" class=\"dataframe\">\n",
       "  <thead>\n",
       "    <tr style=\"text-align: right;\">\n",
       "      <th></th>\n",
       "      <th>avg_salary</th>\n",
       "    </tr>\n",
       "    <tr>\n",
       "      <th>state</th>\n",
       "      <th></th>\n",
       "    </tr>\n",
       "  </thead>\n",
       "  <tbody>\n",
       "    <tr>\n",
       "      <th>California</th>\n",
       "      <td>88432.108626</td>\n",
       "    </tr>\n",
       "    <tr>\n",
       "      <th>Illinois</th>\n",
       "      <td>78310.975610</td>\n",
       "    </tr>\n",
       "    <tr>\n",
       "      <th>Colorado</th>\n",
       "      <td>73619.318182</td>\n",
       "    </tr>\n",
       "    <tr>\n",
       "      <th>New Jersey</th>\n",
       "      <td>73000.000000</td>\n",
       "    </tr>\n",
       "    <tr>\n",
       "      <th>Arapahoe</th>\n",
       "      <td>72250.000000</td>\n",
       "    </tr>\n",
       "    <tr>\n",
       "      <th>New York</th>\n",
       "      <td>71411.594203</td>\n",
       "    </tr>\n",
       "    <tr>\n",
       "      <th>Arizona</th>\n",
       "      <td>70788.659794</td>\n",
       "    </tr>\n",
       "    <tr>\n",
       "      <th>South Carolina</th>\n",
       "      <td>68333.333333</td>\n",
       "    </tr>\n",
       "    <tr>\n",
       "      <th>North Carolina</th>\n",
       "      <td>68022.471910</td>\n",
       "    </tr>\n",
       "    <tr>\n",
       "      <th>Virginia</th>\n",
       "      <td>65187.500000</td>\n",
       "    </tr>\n",
       "    <tr>\n",
       "      <th>Washington</th>\n",
       "      <td>64754.716981</td>\n",
       "    </tr>\n",
       "    <tr>\n",
       "      <th>Pennsylvania</th>\n",
       "      <td>61728.070175</td>\n",
       "    </tr>\n",
       "    <tr>\n",
       "      <th>Delaware</th>\n",
       "      <td>59727.272727</td>\n",
       "    </tr>\n",
       "    <tr>\n",
       "      <th>Texas</th>\n",
       "      <td>58751.269036</td>\n",
       "    </tr>\n",
       "    <tr>\n",
       "      <th>Florida</th>\n",
       "      <td>51851.851852</td>\n",
       "    </tr>\n",
       "    <tr>\n",
       "      <th>Kansas</th>\n",
       "      <td>51500.000000</td>\n",
       "    </tr>\n",
       "    <tr>\n",
       "      <th>Indiana</th>\n",
       "      <td>47500.000000</td>\n",
       "    </tr>\n",
       "    <tr>\n",
       "      <th>Ohio</th>\n",
       "      <td>45200.000000</td>\n",
       "    </tr>\n",
       "    <tr>\n",
       "      <th>Georgia</th>\n",
       "      <td>44000.000000</td>\n",
       "    </tr>\n",
       "    <tr>\n",
       "      <th>Utah</th>\n",
       "      <td>37530.303030</td>\n",
       "    </tr>\n",
       "  </tbody>\n",
       "</table>\n",
       "</div>"
      ],
      "text/plain": [
       "                  avg_salary\n",
       "state                       \n",
       "California      88432.108626\n",
       "Illinois        78310.975610\n",
       "Colorado        73619.318182\n",
       "New Jersey      73000.000000\n",
       " Arapahoe       72250.000000\n",
       "New York        71411.594203\n",
       "Arizona         70788.659794\n",
       "South Carolina  68333.333333\n",
       "North Carolina  68022.471910\n",
       "Virginia        65187.500000\n",
       "Washington      64754.716981\n",
       "Pennsylvania    61728.070175\n",
       "Delaware        59727.272727\n",
       "Texas           58751.269036\n",
       "Florida         51851.851852\n",
       "Kansas          51500.000000\n",
       "Indiana         47500.000000\n",
       "Ohio            45200.000000\n",
       "Georgia         44000.000000\n",
       "Utah            37530.303030"
      ]
     },
     "execution_count": 28,
     "metadata": {},
     "output_type": "execute_result"
    }
   ],
   "source": [
    "state_salary = pd.DataFrame(df.groupby('state')['avg_salary'].mean().sort_values(ascending=False))\n",
    "state_salary"
   ]
  },
  {
   "cell_type": "code",
   "execution_count": 29,
   "id": "37ea950d",
   "metadata": {},
   "outputs": [
    {
     "data": {
      "image/png": "[encoded data removed]",
      "text/plain": [
       "<Figure size 720x576 with 1 Axes>"
      ]
     },
     "metadata": {
      "needs_background": "light"
     },
     "output_type": "display_data"
    }
   ],
   "source": [
    "fig, ax = plt.subplots(figsize=(10,8))\n",
    "sns.barplot(x='avg_salary',y=state_salary.index,data=state_salary, ax=ax)\n",
    "ax.set_title(\"Average Salary by State\", fontsize=15)\n",
    "ax.set_xlabel('Average Salary', fontsize=12)\n",
    "plt.show()"
   ]
  },
  {
   "cell_type": "markdown",
   "id": "732da64c",
   "metadata": {},
   "source": [
    "# Industry "
   ]
  },
  {
   "cell_type": "code",
   "execution_count": 30,
   "id": "709d4e51",
   "metadata": {},
   "outputs": [
    {
     "name": "stderr",
     "output_type": "stream",
     "text": [
      "<ipython-input-30-ec5d2bd7ac94>:3: UserWarning: FixedFormatter should only be used together with FixedLocator\n",
      "  ax.set_xticklabels(ax.get_xticklabels(), rotation=90)\n"
     ]
    },
    {
     "data": {
      "image/png": "[encoded data removed]",
      "text/plain": [
       "<Figure size 720x576 with 1 Axes>"
      ]
     },
     "metadata": {
      "needs_background": "light"
     },
     "output_type": "display_data"
    }
   ],
   "source": [
    "fig, ax = plt.subplots(figsize=(10,8))\n",
    "ax = sns.countplot(y='Industry', data=df, order=df['Industry'].value_counts()[1:11].index)\n",
    "ax.set_xticklabels(ax.get_xticklabels(), rotation=90)\n",
    "ax.set_xlabel(\"Number of Job post\")\n",
    "ax.set_ylabel(\"\")\n",
    "ax.set_title(\"Top 10 of Industry for number of Job post\", fontsize=15)\n",
    "plt.show()"
   ]
  },
  {
   "cell_type": "markdown",
   "id": "e90c142c",
   "metadata": {},
   "source": [
    "# Job Title"
   ]
  },
  {
   "cell_type": "code",
   "execution_count": 31,
   "id": "ed25800c",
   "metadata": {},
   "outputs": [
    {
     "data": {
      "text/html": [
       "<div>\n",
       "<style scoped>\n",
       "    .dataframe tbody tr th:only-of-type {\n",
       "        vertical-align: middle;\n",
       "    }\n",
       "\n",
       "    .dataframe tbody tr th {\n",
       "        vertical-align: top;\n",
       "    }\n",
       "\n",
       "    .dataframe thead th {\n",
       "        text-align: right;\n",
       "    }\n",
       "</style>\n",
       "<table border=\"1\" class=\"dataframe\">\n",
       "  <thead>\n",
       "    <tr style=\"text-align: right;\">\n",
       "      <th></th>\n",
       "      <th>avg_salary</th>\n",
       "    </tr>\n",
       "    <tr>\n",
       "      <th>Job Title</th>\n",
       "      <th></th>\n",
       "    </tr>\n",
       "  </thead>\n",
       "  <tbody>\n",
       "    <tr>\n",
       "      <th>Senior Data Analyst Studio Finance Engineering</th>\n",
       "      <td>150000.0</td>\n",
       "    </tr>\n",
       "    <tr>\n",
       "      <th>AI Insights Data Analyst</th>\n",
       "      <td>150000.0</td>\n",
       "    </tr>\n",
       "    <tr>\n",
       "      <th>Sr. Data Analyst - Growth &amp; Adoption</th>\n",
       "      <td>150000.0</td>\n",
       "    </tr>\n",
       "    <tr>\n",
       "      <th>Data Analyst, Autonomy Operations</th>\n",
       "      <td>150000.0</td>\n",
       "    </tr>\n",
       "    <tr>\n",
       "      <th>Data Analyst (SQL, Hive)</th>\n",
       "      <td>150000.0</td>\n",
       "    </tr>\n",
       "    <tr>\n",
       "      <th>Data Analyst, Product Insights</th>\n",
       "      <td>150000.0</td>\n",
       "    </tr>\n",
       "    <tr>\n",
       "      <th>Data Analyst with Data Mapping and API</th>\n",
       "      <td>150000.0</td>\n",
       "    </tr>\n",
       "    <tr>\n",
       "      <th>Senior HR Data Analyst</th>\n",
       "      <td>150000.0</td>\n",
       "    </tr>\n",
       "    <tr>\n",
       "      <th>Tableau Data Analyst Intern</th>\n",
       "      <td>150000.0</td>\n",
       "    </tr>\n",
       "    <tr>\n",
       "      <th>Data Analyst (College &amp; Foundation Reporting)</th>\n",
       "      <td>138500.0</td>\n",
       "    </tr>\n",
       "    <tr>\n",
       "      <th>Data Scientist/Analyst - Wilbur Labs</th>\n",
       "      <td>138500.0</td>\n",
       "    </tr>\n",
       "    <tr>\n",
       "      <th>Data Studio Analyst</th>\n",
       "      <td>138500.0</td>\n",
       "    </tr>\n",
       "    <tr>\n",
       "      <th>Business Intelligence Data Modeler/Analyst</th>\n",
       "      <td>138500.0</td>\n",
       "    </tr>\n",
       "    <tr>\n",
       "      <th>DATA Analyst-Remote</th>\n",
       "      <td>132250.0</td>\n",
       "    </tr>\n",
       "    <tr>\n",
       "      <th>Data Analyst, Growth</th>\n",
       "      <td>126000.0</td>\n",
       "    </tr>\n",
       "    <tr>\n",
       "      <th>Market Data Services Analyst</th>\n",
       "      <td>126000.0</td>\n",
       "    </tr>\n",
       "    <tr>\n",
       "      <th>Data and Policy Analyst IV</th>\n",
       "      <td>126000.0</td>\n",
       "    </tr>\n",
       "    <tr>\n",
       "      <th>Loan Data Analyst</th>\n",
       "      <td>126000.0</td>\n",
       "    </tr>\n",
       "    <tr>\n",
       "      <th>Data Analyst - Health</th>\n",
       "      <td>126000.0</td>\n",
       "    </tr>\n",
       "    <tr>\n",
       "      <th>Sr. Data Analyst, Twitter Service Tech</th>\n",
       "      <td>126000.0</td>\n",
       "    </tr>\n",
       "  </tbody>\n",
       "</table>\n",
       "</div>"
      ],
      "text/plain": [
       "                                                avg_salary\n",
       "Job Title                                                 \n",
       "Senior Data Analyst Studio Finance Engineering    150000.0\n",
       "AI Insights Data Analyst                          150000.0\n",
       "Sr. Data Analyst - Growth & Adoption              150000.0\n",
       "Data Analyst, Autonomy Operations                 150000.0\n",
       "Data Analyst (SQL, Hive)                          150000.0\n",
       "Data Analyst, Product Insights                    150000.0\n",
       "Data Analyst with Data Mapping and API            150000.0\n",
       "Senior HR Data Analyst                            150000.0\n",
       "Tableau Data Analyst Intern                       150000.0\n",
       "Data Analyst (College & Foundation Reporting)     138500.0\n",
       "Data Scientist/Analyst - Wilbur Labs              138500.0\n",
       "Data Studio Analyst                               138500.0\n",
       "Business Intelligence Data Modeler/Analyst        138500.0\n",
       "DATA Analyst-Remote                               132250.0\n",
       "Data Analyst, Growth                              126000.0\n",
       "Market Data Services Analyst                      126000.0\n",
       "Data and Policy Analyst IV                        126000.0\n",
       "Loan Data Analyst                                 126000.0\n",
       "Data Analyst - Health                             126000.0\n",
       "Sr. Data Analyst, Twitter Service Tech            126000.0"
      ]
     },
     "execution_count": 31,
     "metadata": {},
     "output_type": "execute_result"
    }
   ],
   "source": [
    "job_salary = pd.DataFrame(df.groupby(\"Job Title\")['avg_salary'].mean().sort_values(ascending=False)[:20])\n",
    "job_salary"
   ]
  },
  {
   "cell_type": "code",
   "execution_count": 32,
   "id": "3175c7dc",
   "metadata": {},
   "outputs": [
    {
     "data": {
      "image/png": "[encoded data removed]",
      "text/plain": [
       "<Figure size 864x576 with 1 Axes>"
      ]
     },
     "metadata": {
      "needs_background": "light"
     },
     "output_type": "display_data"
    }
   ],
   "source": [
    "fig, ax = plt.subplots(figsize=(12,8))\n",
    "\n",
    "sns.barplot(x='avg_salary', y=job_salary.index ,data=job_salary)\n",
    "\n",
    "ax.set_xlabel(\"Average Salary\", fontsize=12)\n",
    "ax.set_ylabel(\"\")\n",
    "ax.set_title(\"Average Salary by Job title\", fontsize=15)\n",
    "\n",
    "plt.show()"
   ]
  },
  {
   "cell_type": "code",
   "execution_count": 33,
   "id": "4b20ad2f",
   "metadata": {},
   "outputs": [],
   "source": [
    "df.drop(columns='Founded', inplace=True)"
   ]
  },
  {
   "cell_type": "markdown",
   "id": "8d9b90a2",
   "metadata": {},
   "source": [
    "# Correlation between Average Salary and Rating"
   ]
  },
  {
   "cell_type": "code",
   "execution_count": 34,
   "id": "46e8e331",
   "metadata": {},
   "outputs": [],
   "source": [
    "corr = df.corr()"
   ]
  },
  {
   "cell_type": "code",
   "execution_count": 35,
   "id": "56bddefa",
   "metadata": {},
   "outputs": [
    {
     "data": {
      "image/png": "[encoded data removed]",
      "text/plain": [
       "<Figure size 504x504 with 2 Axes>"
      ]
     },
     "metadata": {
      "needs_background": "light"
     },
     "output_type": "display_data"
    }
   ],
   "source": [
    "fig, ax = plt.subplots(figsize=(7,7))\n",
    "sns.heatmap(corr, vmin=-1, vmax=1, annot=True, square=True)\n",
    "plt.show()"
   ]
  }
 ],
 "metadata": {
  "kernelspec": {
   "display_name": "Python 3",
   "language": "python",
   "name": "python3"
  },
  "language_info": {
   "codemirror_mode": {
    "name": "ipython",
    "version": 3
   },
   "file_extension": ".py",
   "mimetype": "text/x-python",
   "name": "python",
   "nbconvert_exporter": "python",
   "pygments_lexer": "ipython3",
   "version": "3.8.10"
  }
 },
 "nbformat": 4,
 "nbformat_minor": 5
}
